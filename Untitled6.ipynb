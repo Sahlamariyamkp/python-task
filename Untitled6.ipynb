{
  "nbformat": 4,
  "nbformat_minor": 0,
  "metadata": {
    "colab": {
      "provenance": []
    },
    "kernelspec": {
      "name": "python3",
      "display_name": "Python 3"
    },
    "language_info": {
      "name": "python"
    }
  },
  "cells": [
    {
      "cell_type": "code",
      "execution_count": null,
      "metadata": {
        "colab": {
          "base_uri": "https://localhost:8080/"
        },
        "id": "Pt7n1UebdRVp",
        "outputId": "4db2c543-b899-4afb-858a-ba4b1ba75b98"
      },
      "outputs": [
        {
          "output_type": "stream",
          "name": "stdout",
          "text": [
            "college name: futuralabs\n"
          ]
        }
      ],
      "source": [
        "class student:\n",
        "  def __init__(self):\n",
        "    self.__name=\"futuralabs\"\n",
        "    self.subject=\"python\"\n",
        "sahla=student()\n",
        "print(\"college name:\",sahla._student__name)    \n",
        "\n"
      ]
    },
    {
      "cell_type": "code",
      "source": [
        "class student:\n",
        "  clg_name=\"mamo\"\n",
        "  "
      ],
      "metadata": {
        "id": "sNucMCWLgFeO"
      },
      "execution_count": null,
      "outputs": []
    }
  ]
}