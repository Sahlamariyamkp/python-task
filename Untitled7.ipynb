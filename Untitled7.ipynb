{
  "nbformat": 4,
  "nbformat_minor": 0,
  "metadata": {
    "colab": {
      "provenance": []
    },
    "kernelspec": {
      "name": "python3",
      "display_name": "Python 3"
    },
    "language_info": {
      "name": "python"
    }
  },
  "cells": [
    {
      "cell_type": "code",
      "execution_count": null,
      "metadata": {
        "id": "byAaYtEnAhOy"
      },
      "outputs": [],
      "source": []
    },
    {
      "cell_type": "markdown",
      "source": [
        "write a program to solve a classic ancient chinese puzzle \n",
        "we count 35 head and 94 legs among the chicken and rabbits in a farm.\n",
        "how many rabbits and chickens do we have?\n"
      ],
      "metadata": {
        "id": "8Sgy71oTAjAf"
      }
    },
    {
      "cell_type": "code",
      "source": [
        "for i in range(0,35):\n",
        "  j=35-i\n",
        "  if i*2+j*4==94:\n",
        "    print(\"chicken :\",i)\n",
        "    print(\"rabbit:\",j)\n",
        "\n",
        "\n"
      ],
      "metadata": {
        "colab": {
          "base_uri": "https://localhost:8080/"
        },
        "id": "wnJFT3K2BPjK",
        "outputId": "40aaba0c-dd93-4f93-c1c0-c8a600ea9b04"
      },
      "execution_count": null,
      "outputs": [
        {
          "output_type": "stream",
          "name": "stdout",
          "text": [
            "chicken : 23\n",
            "rabbit: 12\n"
          ]
        }
      ]
    }
  ]
}